{
 "cells": [
  {
   "cell_type": "code",
   "execution_count": 1,
   "id": "cf953078",
   "metadata": {
    "_cell_guid": "b1076dfc-b9ad-4769-8c92-a6c4dae69d19",
    "_uuid": "8f2839f25d086af736a60e9eeb907d3b93b6e0e5",
    "execution": {
     "iopub.execute_input": "2023-02-06T07:31:44.876152Z",
     "iopub.status.busy": "2023-02-06T07:31:44.875441Z",
     "iopub.status.idle": "2023-02-06T07:31:44.893022Z",
     "shell.execute_reply": "2023-02-06T07:31:44.892102Z"
    },
    "papermill": {
     "duration": 0.029142,
     "end_time": "2023-02-06T07:31:44.895683",
     "exception": false,
     "start_time": "2023-02-06T07:31:44.866541",
     "status": "completed"
    },
    "tags": []
   },
   "outputs": [
    {
     "name": "stdout",
     "output_type": "stream",
     "text": [
      "/kaggle/input/telco-customer-churn/WA_Fn-UseC_-Telco-Customer-Churn.csv\n"
     ]
    }
   ],
   "source": [
    "# This Python 3 environment comes with many helpful analytics libraries installed\n",
    "# It is defined by the kaggle/python Docker image: https://github.com/kaggle/docker-python\n",
    "# For example, here's several helpful packages to load\n",
    "\n",
    "import numpy as np # linear algebra\n",
    "import pandas as pd # data processing, CSV file I/O (e.g. pd.read_csv)\n",
    "\n",
    "# Input data files are available in the read-only \"../input/\" directory\n",
    "# For example, running this (by clicking run or pressing Shift+Enter) will list all files under the input directory\n",
    "\n",
    "import os\n",
    "for dirname, _, filenames in os.walk('/kaggle/input'):\n",
    "    for filename in filenames:\n",
    "        print(os.path.join(dirname, filename))\n",
    "\n",
    "# You can write up to 20GB to the current directory (/kaggle/working/) that gets preserved as output when you create a version using \"Save & Run All\" \n",
    "# You can also write temporary files to /kaggle/temp/, but they won't be saved outside of the current session"
   ]
  },
  {
   "cell_type": "markdown",
   "id": "aaeb609b",
   "metadata": {
    "papermill": {
     "duration": 0.006294,
     "end_time": "2023-02-06T07:31:44.908873",
     "exception": false,
     "start_time": "2023-02-06T07:31:44.902579",
     "status": "completed"
    },
    "tags": []
   },
   "source": [
    "# import libraries"
   ]
  },
  {
   "cell_type": "code",
   "execution_count": 2,
   "id": "b23a2f90",
   "metadata": {
    "execution": {
     "iopub.execute_input": "2023-02-06T07:31:44.924302Z",
     "iopub.status.busy": "2023-02-06T07:31:44.923330Z",
     "iopub.status.idle": "2023-02-06T07:31:46.088257Z",
     "shell.execute_reply": "2023-02-06T07:31:46.086949Z"
    },
    "papermill": {
     "duration": 1.175266,
     "end_time": "2023-02-06T07:31:46.090861",
     "exception": false,
     "start_time": "2023-02-06T07:31:44.915595",
     "status": "completed"
    },
    "tags": []
   },
   "outputs": [],
   "source": [
    "import pandas as pd\n",
    "import numpy as np\n",
    "import matplotlib.pyplot as plt\n",
    "%matplotlib inline\n",
    "import seaborn as sns\n",
    "import warnings\n",
    "warnings.filterwarnings(\"ignore\")\n",
    "from sklearn.model_selection import train_test_split\n",
    "from sklearn.metrics import average_precision_score, confusion_matrix, accuracy_score, classification_report, plot_confusion_matrix"
   ]
  },
  {
   "cell_type": "code",
   "execution_count": 3,
   "id": "ee30999c",
   "metadata": {
    "execution": {
     "iopub.execute_input": "2023-02-06T07:31:46.105465Z",
     "iopub.status.busy": "2023-02-06T07:31:46.105101Z",
     "iopub.status.idle": "2023-02-06T07:31:46.188427Z",
     "shell.execute_reply": "2023-02-06T07:31:46.186664Z"
    },
    "papermill": {
     "duration": 0.093314,
     "end_time": "2023-02-06T07:31:46.190932",
     "exception": false,
     "start_time": "2023-02-06T07:31:46.097618",
     "status": "completed"
    },
    "tags": []
   },
   "outputs": [
    {
     "data": {
      "text/html": [
       "<div>\n",
       "<style scoped>\n",
       "    .dataframe tbody tr th:only-of-type {\n",
       "        vertical-align: middle;\n",
       "    }\n",
       "\n",
       "    .dataframe tbody tr th {\n",
       "        vertical-align: top;\n",
       "    }\n",
       "\n",
       "    .dataframe thead th {\n",
       "        text-align: right;\n",
       "    }\n",
       "</style>\n",
       "<table border=\"1\" class=\"dataframe\">\n",
       "  <thead>\n",
       "    <tr style=\"text-align: right;\">\n",
       "      <th></th>\n",
       "      <th>customerID</th>\n",
       "      <th>gender</th>\n",
       "      <th>SeniorCitizen</th>\n",
       "      <th>Partner</th>\n",
       "      <th>Dependents</th>\n",
       "      <th>tenure</th>\n",
       "      <th>PhoneService</th>\n",
       "      <th>MultipleLines</th>\n",
       "      <th>InternetService</th>\n",
       "      <th>OnlineSecurity</th>\n",
       "      <th>...</th>\n",
       "      <th>DeviceProtection</th>\n",
       "      <th>TechSupport</th>\n",
       "      <th>StreamingTV</th>\n",
       "      <th>StreamingMovies</th>\n",
       "      <th>Contract</th>\n",
       "      <th>PaperlessBilling</th>\n",
       "      <th>PaymentMethod</th>\n",
       "      <th>MonthlyCharges</th>\n",
       "      <th>TotalCharges</th>\n",
       "      <th>Churn</th>\n",
       "    </tr>\n",
       "  </thead>\n",
       "  <tbody>\n",
       "    <tr>\n",
       "      <th>0</th>\n",
       "      <td>7590-VHVEG</td>\n",
       "      <td>Female</td>\n",
       "      <td>0</td>\n",
       "      <td>Yes</td>\n",
       "      <td>No</td>\n",
       "      <td>1</td>\n",
       "      <td>No</td>\n",
       "      <td>No phone service</td>\n",
       "      <td>DSL</td>\n",
       "      <td>No</td>\n",
       "      <td>...</td>\n",
       "      <td>No</td>\n",
       "      <td>No</td>\n",
       "      <td>No</td>\n",
       "      <td>No</td>\n",
       "      <td>Month-to-month</td>\n",
       "      <td>Yes</td>\n",
       "      <td>Electronic check</td>\n",
       "      <td>29.85</td>\n",
       "      <td>29.85</td>\n",
       "      <td>No</td>\n",
       "    </tr>\n",
       "    <tr>\n",
       "      <th>1</th>\n",
       "      <td>5575-GNVDE</td>\n",
       "      <td>Male</td>\n",
       "      <td>0</td>\n",
       "      <td>No</td>\n",
       "      <td>No</td>\n",
       "      <td>34</td>\n",
       "      <td>Yes</td>\n",
       "      <td>No</td>\n",
       "      <td>DSL</td>\n",
       "      <td>Yes</td>\n",
       "      <td>...</td>\n",
       "      <td>Yes</td>\n",
       "      <td>No</td>\n",
       "      <td>No</td>\n",
       "      <td>No</td>\n",
       "      <td>One year</td>\n",
       "      <td>No</td>\n",
       "      <td>Mailed check</td>\n",
       "      <td>56.95</td>\n",
       "      <td>1889.5</td>\n",
       "      <td>No</td>\n",
       "    </tr>\n",
       "    <tr>\n",
       "      <th>2</th>\n",
       "      <td>3668-QPYBK</td>\n",
       "      <td>Male</td>\n",
       "      <td>0</td>\n",
       "      <td>No</td>\n",
       "      <td>No</td>\n",
       "      <td>2</td>\n",
       "      <td>Yes</td>\n",
       "      <td>No</td>\n",
       "      <td>DSL</td>\n",
       "      <td>Yes</td>\n",
       "      <td>...</td>\n",
       "      <td>No</td>\n",
       "      <td>No</td>\n",
       "      <td>No</td>\n",
       "      <td>No</td>\n",
       "      <td>Month-to-month</td>\n",
       "      <td>Yes</td>\n",
       "      <td>Mailed check</td>\n",
       "      <td>53.85</td>\n",
       "      <td>108.15</td>\n",
       "      <td>Yes</td>\n",
       "    </tr>\n",
       "    <tr>\n",
       "      <th>3</th>\n",
       "      <td>7795-CFOCW</td>\n",
       "      <td>Male</td>\n",
       "      <td>0</td>\n",
       "      <td>No</td>\n",
       "      <td>No</td>\n",
       "      <td>45</td>\n",
       "      <td>No</td>\n",
       "      <td>No phone service</td>\n",
       "      <td>DSL</td>\n",
       "      <td>Yes</td>\n",
       "      <td>...</td>\n",
       "      <td>Yes</td>\n",
       "      <td>Yes</td>\n",
       "      <td>No</td>\n",
       "      <td>No</td>\n",
       "      <td>One year</td>\n",
       "      <td>No</td>\n",
       "      <td>Bank transfer (automatic)</td>\n",
       "      <td>42.30</td>\n",
       "      <td>1840.75</td>\n",
       "      <td>No</td>\n",
       "    </tr>\n",
       "    <tr>\n",
       "      <th>4</th>\n",
       "      <td>9237-HQITU</td>\n",
       "      <td>Female</td>\n",
       "      <td>0</td>\n",
       "      <td>No</td>\n",
       "      <td>No</td>\n",
       "      <td>2</td>\n",
       "      <td>Yes</td>\n",
       "      <td>No</td>\n",
       "      <td>Fiber optic</td>\n",
       "      <td>No</td>\n",
       "      <td>...</td>\n",
       "      <td>No</td>\n",
       "      <td>No</td>\n",
       "      <td>No</td>\n",
       "      <td>No</td>\n",
       "      <td>Month-to-month</td>\n",
       "      <td>Yes</td>\n",
       "      <td>Electronic check</td>\n",
       "      <td>70.70</td>\n",
       "      <td>151.65</td>\n",
       "      <td>Yes</td>\n",
       "    </tr>\n",
       "  </tbody>\n",
       "</table>\n",
       "<p>5 rows × 21 columns</p>\n",
       "</div>"
      ],
      "text/plain": [
       "   customerID  gender  SeniorCitizen Partner Dependents  tenure PhoneService  \\\n",
       "0  7590-VHVEG  Female              0     Yes         No       1           No   \n",
       "1  5575-GNVDE    Male              0      No         No      34          Yes   \n",
       "2  3668-QPYBK    Male              0      No         No       2          Yes   \n",
       "3  7795-CFOCW    Male              0      No         No      45           No   \n",
       "4  9237-HQITU  Female              0      No         No       2          Yes   \n",
       "\n",
       "      MultipleLines InternetService OnlineSecurity  ... DeviceProtection  \\\n",
       "0  No phone service             DSL             No  ...               No   \n",
       "1                No             DSL            Yes  ...              Yes   \n",
       "2                No             DSL            Yes  ...               No   \n",
       "3  No phone service             DSL            Yes  ...              Yes   \n",
       "4                No     Fiber optic             No  ...               No   \n",
       "\n",
       "  TechSupport StreamingTV StreamingMovies        Contract PaperlessBilling  \\\n",
       "0          No          No              No  Month-to-month              Yes   \n",
       "1          No          No              No        One year               No   \n",
       "2          No          No              No  Month-to-month              Yes   \n",
       "3         Yes          No              No        One year               No   \n",
       "4          No          No              No  Month-to-month              Yes   \n",
       "\n",
       "               PaymentMethod MonthlyCharges  TotalCharges Churn  \n",
       "0           Electronic check          29.85         29.85    No  \n",
       "1               Mailed check          56.95        1889.5    No  \n",
       "2               Mailed check          53.85        108.15   Yes  \n",
       "3  Bank transfer (automatic)          42.30       1840.75    No  \n",
       "4           Electronic check          70.70        151.65   Yes  \n",
       "\n",
       "[5 rows x 21 columns]"
      ]
     },
     "execution_count": 3,
     "metadata": {},
     "output_type": "execute_result"
    }
   ],
   "source": [
    "df=pd.read_csv('/kaggle/input/telco-customer-churn/WA_Fn-UseC_-Telco-Customer-Churn.csv')\n",
    "df.head()"
   ]
  },
  {
   "cell_type": "code",
   "execution_count": 4,
   "id": "a85daf71",
   "metadata": {
    "execution": {
     "iopub.execute_input": "2023-02-06T07:31:46.206682Z",
     "iopub.status.busy": "2023-02-06T07:31:46.206291Z",
     "iopub.status.idle": "2023-02-06T07:31:46.237291Z",
     "shell.execute_reply": "2023-02-06T07:31:46.236121Z"
    },
    "papermill": {
     "duration": 0.041899,
     "end_time": "2023-02-06T07:31:46.239954",
     "exception": false,
     "start_time": "2023-02-06T07:31:46.198055",
     "status": "completed"
    },
    "tags": []
   },
   "outputs": [
    {
     "data": {
      "text/html": [
       "<div>\n",
       "<style scoped>\n",
       "    .dataframe tbody tr th:only-of-type {\n",
       "        vertical-align: middle;\n",
       "    }\n",
       "\n",
       "    .dataframe tbody tr th {\n",
       "        vertical-align: top;\n",
       "    }\n",
       "\n",
       "    .dataframe thead th {\n",
       "        text-align: right;\n",
       "    }\n",
       "</style>\n",
       "<table border=\"1\" class=\"dataframe\">\n",
       "  <thead>\n",
       "    <tr style=\"text-align: right;\">\n",
       "      <th></th>\n",
       "      <th>SeniorCitizen</th>\n",
       "      <th>tenure</th>\n",
       "      <th>MonthlyCharges</th>\n",
       "    </tr>\n",
       "  </thead>\n",
       "  <tbody>\n",
       "    <tr>\n",
       "      <th>count</th>\n",
       "      <td>7043.000000</td>\n",
       "      <td>7043.000000</td>\n",
       "      <td>7043.000000</td>\n",
       "    </tr>\n",
       "    <tr>\n",
       "      <th>mean</th>\n",
       "      <td>0.162147</td>\n",
       "      <td>32.371149</td>\n",
       "      <td>64.761692</td>\n",
       "    </tr>\n",
       "    <tr>\n",
       "      <th>std</th>\n",
       "      <td>0.368612</td>\n",
       "      <td>24.559481</td>\n",
       "      <td>30.090047</td>\n",
       "    </tr>\n",
       "    <tr>\n",
       "      <th>min</th>\n",
       "      <td>0.000000</td>\n",
       "      <td>0.000000</td>\n",
       "      <td>18.250000</td>\n",
       "    </tr>\n",
       "    <tr>\n",
       "      <th>25%</th>\n",
       "      <td>0.000000</td>\n",
       "      <td>9.000000</td>\n",
       "      <td>35.500000</td>\n",
       "    </tr>\n",
       "    <tr>\n",
       "      <th>50%</th>\n",
       "      <td>0.000000</td>\n",
       "      <td>29.000000</td>\n",
       "      <td>70.350000</td>\n",
       "    </tr>\n",
       "    <tr>\n",
       "      <th>75%</th>\n",
       "      <td>0.000000</td>\n",
       "      <td>55.000000</td>\n",
       "      <td>89.850000</td>\n",
       "    </tr>\n",
       "    <tr>\n",
       "      <th>max</th>\n",
       "      <td>1.000000</td>\n",
       "      <td>72.000000</td>\n",
       "      <td>118.750000</td>\n",
       "    </tr>\n",
       "  </tbody>\n",
       "</table>\n",
       "</div>"
      ],
      "text/plain": [
       "       SeniorCitizen       tenure  MonthlyCharges\n",
       "count    7043.000000  7043.000000     7043.000000\n",
       "mean        0.162147    32.371149       64.761692\n",
       "std         0.368612    24.559481       30.090047\n",
       "min         0.000000     0.000000       18.250000\n",
       "25%         0.000000     9.000000       35.500000\n",
       "50%         0.000000    29.000000       70.350000\n",
       "75%         0.000000    55.000000       89.850000\n",
       "max         1.000000    72.000000      118.750000"
      ]
     },
     "execution_count": 4,
     "metadata": {},
     "output_type": "execute_result"
    }
   ],
   "source": [
    "df.describe()"
   ]
  },
  {
   "cell_type": "code",
   "execution_count": 5,
   "id": "12443bca",
   "metadata": {
    "execution": {
     "iopub.execute_input": "2023-02-06T07:31:46.255864Z",
     "iopub.status.busy": "2023-02-06T07:31:46.255428Z",
     "iopub.status.idle": "2023-02-06T07:31:46.284415Z",
     "shell.execute_reply": "2023-02-06T07:31:46.282672Z"
    },
    "papermill": {
     "duration": 0.040476,
     "end_time": "2023-02-06T07:31:46.287604",
     "exception": false,
     "start_time": "2023-02-06T07:31:46.247128",
     "status": "completed"
    },
    "tags": []
   },
   "outputs": [
    {
     "name": "stdout",
     "output_type": "stream",
     "text": [
      "<class 'pandas.core.frame.DataFrame'>\n",
      "RangeIndex: 7043 entries, 0 to 7042\n",
      "Data columns (total 21 columns):\n",
      " #   Column            Non-Null Count  Dtype  \n",
      "---  ------            --------------  -----  \n",
      " 0   customerID        7043 non-null   object \n",
      " 1   gender            7043 non-null   object \n",
      " 2   SeniorCitizen     7043 non-null   int64  \n",
      " 3   Partner           7043 non-null   object \n",
      " 4   Dependents        7043 non-null   object \n",
      " 5   tenure            7043 non-null   int64  \n",
      " 6   PhoneService      7043 non-null   object \n",
      " 7   MultipleLines     7043 non-null   object \n",
      " 8   InternetService   7043 non-null   object \n",
      " 9   OnlineSecurity    7043 non-null   object \n",
      " 10  OnlineBackup      7043 non-null   object \n",
      " 11  DeviceProtection  7043 non-null   object \n",
      " 12  TechSupport       7043 non-null   object \n",
      " 13  StreamingTV       7043 non-null   object \n",
      " 14  StreamingMovies   7043 non-null   object \n",
      " 15  Contract          7043 non-null   object \n",
      " 16  PaperlessBilling  7043 non-null   object \n",
      " 17  PaymentMethod     7043 non-null   object \n",
      " 18  MonthlyCharges    7043 non-null   float64\n",
      " 19  TotalCharges      7043 non-null   object \n",
      " 20  Churn             7043 non-null   object \n",
      "dtypes: float64(1), int64(2), object(18)\n",
      "memory usage: 1.1+ MB\n"
     ]
    }
   ],
   "source": [
    "df.info()"
   ]
  },
  {
   "cell_type": "code",
   "execution_count": 6,
   "id": "b876a45e",
   "metadata": {
    "execution": {
     "iopub.execute_input": "2023-02-06T07:31:46.305637Z",
     "iopub.status.busy": "2023-02-06T07:31:46.305243Z",
     "iopub.status.idle": "2023-02-06T07:31:46.318006Z",
     "shell.execute_reply": "2023-02-06T07:31:46.317236Z"
    },
    "papermill": {
     "duration": 0.023084,
     "end_time": "2023-02-06T07:31:46.319804",
     "exception": false,
     "start_time": "2023-02-06T07:31:46.296720",
     "status": "completed"
    },
    "tags": []
   },
   "outputs": [
    {
     "data": {
      "text/plain": [
       "          11\n",
       "20.2      11\n",
       "19.75      9\n",
       "20.05      8\n",
       "19.9       8\n",
       "          ..\n",
       "6849.4     1\n",
       "692.35     1\n",
       "130.15     1\n",
       "3211.9     1\n",
       "6844.5     1\n",
       "Name: TotalCharges, Length: 6531, dtype: int64"
      ]
     },
     "execution_count": 6,
     "metadata": {},
     "output_type": "execute_result"
    }
   ],
   "source": [
    "df['TotalCharges'].value_counts()"
   ]
  },
  {
   "cell_type": "markdown",
   "id": "77f644e8",
   "metadata": {
    "papermill": {
     "duration": 0.007745,
     "end_time": "2023-02-06T07:31:46.335695",
     "exception": false,
     "start_time": "2023-02-06T07:31:46.327950",
     "status": "completed"
    },
    "tags": []
   },
   "source": [
    "# converting total charges to numeric"
   ]
  },
  {
   "cell_type": "code",
   "execution_count": 7,
   "id": "49d73ac5",
   "metadata": {
    "execution": {
     "iopub.execute_input": "2023-02-06T07:31:46.352099Z",
     "iopub.status.busy": "2023-02-06T07:31:46.351458Z",
     "iopub.status.idle": "2023-02-06T07:31:46.360845Z",
     "shell.execute_reply": "2023-02-06T07:31:46.359399Z"
    },
    "papermill": {
     "duration": 0.02049,
     "end_time": "2023-02-06T07:31:46.363474",
     "exception": false,
     "start_time": "2023-02-06T07:31:46.342984",
     "status": "completed"
    },
    "tags": []
   },
   "outputs": [],
   "source": [
    "df['TotalCharges']=pd.to_numeric(df['TotalCharges'],errors='coerce')"
   ]
  },
  {
   "cell_type": "code",
   "execution_count": 8,
   "id": "d60b0d91",
   "metadata": {
    "execution": {
     "iopub.execute_input": "2023-02-06T07:31:46.379974Z",
     "iopub.status.busy": "2023-02-06T07:31:46.379597Z",
     "iopub.status.idle": "2023-02-06T07:31:46.386364Z",
     "shell.execute_reply": "2023-02-06T07:31:46.385381Z"
    },
    "papermill": {
     "duration": 0.017427,
     "end_time": "2023-02-06T07:31:46.388288",
     "exception": false,
     "start_time": "2023-02-06T07:31:46.370861",
     "status": "completed"
    },
    "tags": []
   },
   "outputs": [
    {
     "data": {
      "text/plain": [
       "(7043, 21)"
      ]
     },
     "execution_count": 8,
     "metadata": {},
     "output_type": "execute_result"
    }
   ],
   "source": [
    "df.shape"
   ]
  },
  {
   "cell_type": "code",
   "execution_count": 9,
   "id": "fe14fc44",
   "metadata": {
    "execution": {
     "iopub.execute_input": "2023-02-06T07:31:46.405546Z",
     "iopub.status.busy": "2023-02-06T07:31:46.405154Z",
     "iopub.status.idle": "2023-02-06T07:31:46.423155Z",
     "shell.execute_reply": "2023-02-06T07:31:46.421964Z"
    },
    "papermill": {
     "duration": 0.029484,
     "end_time": "2023-02-06T07:31:46.425883",
     "exception": false,
     "start_time": "2023-02-06T07:31:46.396399",
     "status": "completed"
    },
    "tags": []
   },
   "outputs": [
    {
     "name": "stdout",
     "output_type": "stream",
     "text": [
      "<class 'pandas.core.frame.DataFrame'>\n",
      "RangeIndex: 7043 entries, 0 to 7042\n",
      "Data columns (total 21 columns):\n",
      " #   Column            Non-Null Count  Dtype  \n",
      "---  ------            --------------  -----  \n",
      " 0   customerID        7043 non-null   object \n",
      " 1   gender            7043 non-null   object \n",
      " 2   SeniorCitizen     7043 non-null   int64  \n",
      " 3   Partner           7043 non-null   object \n",
      " 4   Dependents        7043 non-null   object \n",
      " 5   tenure            7043 non-null   int64  \n",
      " 6   PhoneService      7043 non-null   object \n",
      " 7   MultipleLines     7043 non-null   object \n",
      " 8   InternetService   7043 non-null   object \n",
      " 9   OnlineSecurity    7043 non-null   object \n",
      " 10  OnlineBackup      7043 non-null   object \n",
      " 11  DeviceProtection  7043 non-null   object \n",
      " 12  TechSupport       7043 non-null   object \n",
      " 13  StreamingTV       7043 non-null   object \n",
      " 14  StreamingMovies   7043 non-null   object \n",
      " 15  Contract          7043 non-null   object \n",
      " 16  PaperlessBilling  7043 non-null   object \n",
      " 17  PaymentMethod     7043 non-null   object \n",
      " 18  MonthlyCharges    7043 non-null   float64\n",
      " 19  TotalCharges      7032 non-null   float64\n",
      " 20  Churn             7043 non-null   object \n",
      "dtypes: float64(2), int64(2), object(17)\n",
      "memory usage: 1.1+ MB\n"
     ]
    }
   ],
   "source": [
    "df.info()"
   ]
  },
  {
   "cell_type": "code",
   "execution_count": 10,
   "id": "44947aed",
   "metadata": {
    "execution": {
     "iopub.execute_input": "2023-02-06T07:31:46.442666Z",
     "iopub.status.busy": "2023-02-06T07:31:46.442237Z",
     "iopub.status.idle": "2023-02-06T07:31:46.455256Z",
     "shell.execute_reply": "2023-02-06T07:31:46.454353Z"
    },
    "papermill": {
     "duration": 0.024269,
     "end_time": "2023-02-06T07:31:46.457696",
     "exception": false,
     "start_time": "2023-02-06T07:31:46.433427",
     "status": "completed"
    },
    "tags": []
   },
   "outputs": [
    {
     "data": {
      "text/plain": [
       "customerID           0\n",
       "gender               0\n",
       "SeniorCitizen        0\n",
       "Partner              0\n",
       "Dependents           0\n",
       "tenure               0\n",
       "PhoneService         0\n",
       "MultipleLines        0\n",
       "InternetService      0\n",
       "OnlineSecurity       0\n",
       "OnlineBackup         0\n",
       "DeviceProtection     0\n",
       "TechSupport          0\n",
       "StreamingTV          0\n",
       "StreamingMovies      0\n",
       "Contract             0\n",
       "PaperlessBilling     0\n",
       "PaymentMethod        0\n",
       "MonthlyCharges       0\n",
       "TotalCharges        11\n",
       "Churn                0\n",
       "dtype: int64"
      ]
     },
     "execution_count": 10,
     "metadata": {},
     "output_type": "execute_result"
    }
   ],
   "source": [
    "df.isna().sum()"
   ]
  },
  {
   "cell_type": "code",
   "execution_count": 11,
   "id": "361e4234",
   "metadata": {
    "execution": {
     "iopub.execute_input": "2023-02-06T07:31:46.474865Z",
     "iopub.status.busy": "2023-02-06T07:31:46.474434Z",
     "iopub.status.idle": "2023-02-06T07:31:46.483042Z",
     "shell.execute_reply": "2023-02-06T07:31:46.481684Z"
    },
    "papermill": {
     "duration": 0.020194,
     "end_time": "2023-02-06T07:31:46.485671",
     "exception": false,
     "start_time": "2023-02-06T07:31:46.465477",
     "status": "completed"
    },
    "tags": []
   },
   "outputs": [],
   "source": [
    "df.drop('customerID',axis=1,inplace=True)"
   ]
  },
  {
   "cell_type": "code",
   "execution_count": 12,
   "id": "43eb1f3b",
   "metadata": {
    "execution": {
     "iopub.execute_input": "2023-02-06T07:31:46.503395Z",
     "iopub.status.busy": "2023-02-06T07:31:46.503022Z",
     "iopub.status.idle": "2023-02-06T07:31:46.511299Z",
     "shell.execute_reply": "2023-02-06T07:31:46.509874Z"
    },
    "papermill": {
     "duration": 0.019715,
     "end_time": "2023-02-06T07:31:46.513293",
     "exception": false,
     "start_time": "2023-02-06T07:31:46.493578",
     "status": "completed"
    },
    "tags": []
   },
   "outputs": [
    {
     "data": {
      "text/plain": [
       "No     5174\n",
       "Yes    1869\n",
       "Name: Churn, dtype: int64"
      ]
     },
     "execution_count": 12,
     "metadata": {},
     "output_type": "execute_result"
    }
   ],
   "source": [
    "df['Churn'].value_counts()"
   ]
  },
  {
   "cell_type": "markdown",
   "id": "da82e6fd",
   "metadata": {
    "papermill": {
     "duration": 0.007303,
     "end_time": "2023-02-06T07:31:46.528456",
     "exception": false,
     "start_time": "2023-02-06T07:31:46.521153",
     "status": "completed"
    },
    "tags": []
   },
   "source": [
    "# converting churn column to numeric vale"
   ]
  },
  {
   "cell_type": "code",
   "execution_count": 13,
   "id": "4f423c9d",
   "metadata": {
    "execution": {
     "iopub.execute_input": "2023-02-06T07:31:46.545238Z",
     "iopub.status.busy": "2023-02-06T07:31:46.544853Z",
     "iopub.status.idle": "2023-02-06T07:31:46.553255Z",
     "shell.execute_reply": "2023-02-06T07:31:46.552318Z"
    },
    "papermill": {
     "duration": 0.019339,
     "end_time": "2023-02-06T07:31:46.555437",
     "exception": false,
     "start_time": "2023-02-06T07:31:46.536098",
     "status": "completed"
    },
    "tags": []
   },
   "outputs": [],
   "source": [
    "df['Churn']=df['Churn'].replace({'No':0 ,'Yes':1})"
   ]
  },
  {
   "cell_type": "code",
   "execution_count": 14,
   "id": "8e277c6b",
   "metadata": {
    "execution": {
     "iopub.execute_input": "2023-02-06T07:31:46.574197Z",
     "iopub.status.busy": "2023-02-06T07:31:46.573793Z",
     "iopub.status.idle": "2023-02-06T07:31:46.581575Z",
     "shell.execute_reply": "2023-02-06T07:31:46.580713Z"
    },
    "papermill": {
     "duration": 0.018839,
     "end_time": "2023-02-06T07:31:46.583404",
     "exception": false,
     "start_time": "2023-02-06T07:31:46.564565",
     "status": "completed"
    },
    "tags": []
   },
   "outputs": [
    {
     "data": {
      "text/plain": [
       "0    5174\n",
       "1    1869\n",
       "Name: Churn, dtype: int64"
      ]
     },
     "execution_count": 14,
     "metadata": {},
     "output_type": "execute_result"
    }
   ],
   "source": [
    "df['Churn'].value_counts()"
   ]
  },
  {
   "cell_type": "code",
   "execution_count": 15,
   "id": "b79a818e",
   "metadata": {
    "execution": {
     "iopub.execute_input": "2023-02-06T07:31:46.600659Z",
     "iopub.status.busy": "2023-02-06T07:31:46.600280Z",
     "iopub.status.idle": "2023-02-06T07:31:46.628482Z",
     "shell.execute_reply": "2023-02-06T07:31:46.627268Z"
    },
    "papermill": {
     "duration": 0.039771,
     "end_time": "2023-02-06T07:31:46.631036",
     "exception": false,
     "start_time": "2023-02-06T07:31:46.591265",
     "status": "completed"
    },
    "tags": []
   },
   "outputs": [],
   "source": [
    "df1=pd.get_dummies(df)"
   ]
  },
  {
   "cell_type": "code",
   "execution_count": 16,
   "id": "43977bd7",
   "metadata": {
    "execution": {
     "iopub.execute_input": "2023-02-06T07:31:46.648393Z",
     "iopub.status.busy": "2023-02-06T07:31:46.648028Z",
     "iopub.status.idle": "2023-02-06T07:31:46.667912Z",
     "shell.execute_reply": "2023-02-06T07:31:46.666440Z"
    },
    "papermill": {
     "duration": 0.031039,
     "end_time": "2023-02-06T07:31:46.670020",
     "exception": false,
     "start_time": "2023-02-06T07:31:46.638981",
     "status": "completed"
    },
    "tags": []
   },
   "outputs": [
    {
     "data": {
      "text/html": [
       "<div>\n",
       "<style scoped>\n",
       "    .dataframe tbody tr th:only-of-type {\n",
       "        vertical-align: middle;\n",
       "    }\n",
       "\n",
       "    .dataframe tbody tr th {\n",
       "        vertical-align: top;\n",
       "    }\n",
       "\n",
       "    .dataframe thead th {\n",
       "        text-align: right;\n",
       "    }\n",
       "</style>\n",
       "<table border=\"1\" class=\"dataframe\">\n",
       "  <thead>\n",
       "    <tr style=\"text-align: right;\">\n",
       "      <th></th>\n",
       "      <th>SeniorCitizen</th>\n",
       "      <th>tenure</th>\n",
       "      <th>MonthlyCharges</th>\n",
       "      <th>TotalCharges</th>\n",
       "      <th>Churn</th>\n",
       "      <th>gender_Female</th>\n",
       "      <th>gender_Male</th>\n",
       "      <th>Partner_No</th>\n",
       "      <th>Partner_Yes</th>\n",
       "      <th>Dependents_No</th>\n",
       "      <th>...</th>\n",
       "      <th>StreamingMovies_Yes</th>\n",
       "      <th>Contract_Month-to-month</th>\n",
       "      <th>Contract_One year</th>\n",
       "      <th>Contract_Two year</th>\n",
       "      <th>PaperlessBilling_No</th>\n",
       "      <th>PaperlessBilling_Yes</th>\n",
       "      <th>PaymentMethod_Bank transfer (automatic)</th>\n",
       "      <th>PaymentMethod_Credit card (automatic)</th>\n",
       "      <th>PaymentMethod_Electronic check</th>\n",
       "      <th>PaymentMethod_Mailed check</th>\n",
       "    </tr>\n",
       "  </thead>\n",
       "  <tbody>\n",
       "    <tr>\n",
       "      <th>0</th>\n",
       "      <td>0</td>\n",
       "      <td>1</td>\n",
       "      <td>29.85</td>\n",
       "      <td>29.85</td>\n",
       "      <td>0</td>\n",
       "      <td>1</td>\n",
       "      <td>0</td>\n",
       "      <td>0</td>\n",
       "      <td>1</td>\n",
       "      <td>1</td>\n",
       "      <td>...</td>\n",
       "      <td>0</td>\n",
       "      <td>1</td>\n",
       "      <td>0</td>\n",
       "      <td>0</td>\n",
       "      <td>0</td>\n",
       "      <td>1</td>\n",
       "      <td>0</td>\n",
       "      <td>0</td>\n",
       "      <td>1</td>\n",
       "      <td>0</td>\n",
       "    </tr>\n",
       "    <tr>\n",
       "      <th>1</th>\n",
       "      <td>0</td>\n",
       "      <td>34</td>\n",
       "      <td>56.95</td>\n",
       "      <td>1889.50</td>\n",
       "      <td>0</td>\n",
       "      <td>0</td>\n",
       "      <td>1</td>\n",
       "      <td>1</td>\n",
       "      <td>0</td>\n",
       "      <td>1</td>\n",
       "      <td>...</td>\n",
       "      <td>0</td>\n",
       "      <td>0</td>\n",
       "      <td>1</td>\n",
       "      <td>0</td>\n",
       "      <td>1</td>\n",
       "      <td>0</td>\n",
       "      <td>0</td>\n",
       "      <td>0</td>\n",
       "      <td>0</td>\n",
       "      <td>1</td>\n",
       "    </tr>\n",
       "    <tr>\n",
       "      <th>2</th>\n",
       "      <td>0</td>\n",
       "      <td>2</td>\n",
       "      <td>53.85</td>\n",
       "      <td>108.15</td>\n",
       "      <td>1</td>\n",
       "      <td>0</td>\n",
       "      <td>1</td>\n",
       "      <td>1</td>\n",
       "      <td>0</td>\n",
       "      <td>1</td>\n",
       "      <td>...</td>\n",
       "      <td>0</td>\n",
       "      <td>1</td>\n",
       "      <td>0</td>\n",
       "      <td>0</td>\n",
       "      <td>0</td>\n",
       "      <td>1</td>\n",
       "      <td>0</td>\n",
       "      <td>0</td>\n",
       "      <td>0</td>\n",
       "      <td>1</td>\n",
       "    </tr>\n",
       "    <tr>\n",
       "      <th>3</th>\n",
       "      <td>0</td>\n",
       "      <td>45</td>\n",
       "      <td>42.30</td>\n",
       "      <td>1840.75</td>\n",
       "      <td>0</td>\n",
       "      <td>0</td>\n",
       "      <td>1</td>\n",
       "      <td>1</td>\n",
       "      <td>0</td>\n",
       "      <td>1</td>\n",
       "      <td>...</td>\n",
       "      <td>0</td>\n",
       "      <td>0</td>\n",
       "      <td>1</td>\n",
       "      <td>0</td>\n",
       "      <td>1</td>\n",
       "      <td>0</td>\n",
       "      <td>1</td>\n",
       "      <td>0</td>\n",
       "      <td>0</td>\n",
       "      <td>0</td>\n",
       "    </tr>\n",
       "    <tr>\n",
       "      <th>4</th>\n",
       "      <td>0</td>\n",
       "      <td>2</td>\n",
       "      <td>70.70</td>\n",
       "      <td>151.65</td>\n",
       "      <td>1</td>\n",
       "      <td>1</td>\n",
       "      <td>0</td>\n",
       "      <td>1</td>\n",
       "      <td>0</td>\n",
       "      <td>1</td>\n",
       "      <td>...</td>\n",
       "      <td>0</td>\n",
       "      <td>1</td>\n",
       "      <td>0</td>\n",
       "      <td>0</td>\n",
       "      <td>0</td>\n",
       "      <td>1</td>\n",
       "      <td>0</td>\n",
       "      <td>0</td>\n",
       "      <td>1</td>\n",
       "      <td>0</td>\n",
       "    </tr>\n",
       "  </tbody>\n",
       "</table>\n",
       "<p>5 rows × 46 columns</p>\n",
       "</div>"
      ],
      "text/plain": [
       "   SeniorCitizen  tenure  MonthlyCharges  TotalCharges  Churn  gender_Female  \\\n",
       "0              0       1           29.85         29.85      0              1   \n",
       "1              0      34           56.95       1889.50      0              0   \n",
       "2              0       2           53.85        108.15      1              0   \n",
       "3              0      45           42.30       1840.75      0              0   \n",
       "4              0       2           70.70        151.65      1              1   \n",
       "\n",
       "   gender_Male  Partner_No  Partner_Yes  Dependents_No  ...  \\\n",
       "0            0           0            1              1  ...   \n",
       "1            1           1            0              1  ...   \n",
       "2            1           1            0              1  ...   \n",
       "3            1           1            0              1  ...   \n",
       "4            0           1            0              1  ...   \n",
       "\n",
       "   StreamingMovies_Yes  Contract_Month-to-month  Contract_One year  \\\n",
       "0                    0                        1                  0   \n",
       "1                    0                        0                  1   \n",
       "2                    0                        1                  0   \n",
       "3                    0                        0                  1   \n",
       "4                    0                        1                  0   \n",
       "\n",
       "   Contract_Two year  PaperlessBilling_No  PaperlessBilling_Yes  \\\n",
       "0                  0                    0                     1   \n",
       "1                  0                    1                     0   \n",
       "2                  0                    0                     1   \n",
       "3                  0                    1                     0   \n",
       "4                  0                    0                     1   \n",
       "\n",
       "   PaymentMethod_Bank transfer (automatic)  \\\n",
       "0                                        0   \n",
       "1                                        0   \n",
       "2                                        0   \n",
       "3                                        1   \n",
       "4                                        0   \n",
       "\n",
       "   PaymentMethod_Credit card (automatic)  PaymentMethod_Electronic check  \\\n",
       "0                                      0                               1   \n",
       "1                                      0                               0   \n",
       "2                                      0                               0   \n",
       "3                                      0                               0   \n",
       "4                                      0                               1   \n",
       "\n",
       "   PaymentMethod_Mailed check  \n",
       "0                           0  \n",
       "1                           1  \n",
       "2                           1  \n",
       "3                           0  \n",
       "4                           0  \n",
       "\n",
       "[5 rows x 46 columns]"
      ]
     },
     "execution_count": 16,
     "metadata": {},
     "output_type": "execute_result"
    }
   ],
   "source": [
    "df1.head()"
   ]
  },
  {
   "cell_type": "code",
   "execution_count": 17,
   "id": "fb17fcf3",
   "metadata": {
    "execution": {
     "iopub.execute_input": "2023-02-06T07:31:46.689126Z",
     "iopub.status.busy": "2023-02-06T07:31:46.688561Z",
     "iopub.status.idle": "2023-02-06T07:31:46.695211Z",
     "shell.execute_reply": "2023-02-06T07:31:46.693549Z"
    },
    "papermill": {
     "duration": 0.019521,
     "end_time": "2023-02-06T07:31:46.697737",
     "exception": false,
     "start_time": "2023-02-06T07:31:46.678216",
     "status": "completed"
    },
    "tags": []
   },
   "outputs": [],
   "source": [
    "X=df1.drop('Churn',axis=1)\n",
    "y=df1['Churn']"
   ]
  },
  {
   "cell_type": "markdown",
   "id": "58b30899",
   "metadata": {
    "papermill": {
     "duration": 0.007754,
     "end_time": "2023-02-06T07:31:46.713633",
     "exception": false,
     "start_time": "2023-02-06T07:31:46.705879",
     "status": "completed"
    },
    "tags": []
   },
   "source": [
    "# scaling the data"
   ]
  },
  {
   "cell_type": "code",
   "execution_count": 18,
   "id": "d6eaa613",
   "metadata": {
    "execution": {
     "iopub.execute_input": "2023-02-06T07:31:46.731161Z",
     "iopub.status.busy": "2023-02-06T07:31:46.730779Z",
     "iopub.status.idle": "2023-02-06T07:31:46.742156Z",
     "shell.execute_reply": "2023-02-06T07:31:46.741213Z"
    },
    "papermill": {
     "duration": 0.023052,
     "end_time": "2023-02-06T07:31:46.744687",
     "exception": false,
     "start_time": "2023-02-06T07:31:46.721635",
     "status": "completed"
    },
    "tags": []
   },
   "outputs": [],
   "source": [
    "from sklearn.preprocessing import MinMaxScaler\n",
    "scale=MinMaxScaler()\n",
    "X_scale=scale.fit_transform(X)"
   ]
  },
  {
   "cell_type": "code",
   "execution_count": 19,
   "id": "0546a9fe",
   "metadata": {
    "execution": {
     "iopub.execute_input": "2023-02-06T07:31:46.763254Z",
     "iopub.status.busy": "2023-02-06T07:31:46.762394Z",
     "iopub.status.idle": "2023-02-06T07:31:46.769592Z",
     "shell.execute_reply": "2023-02-06T07:31:46.768877Z"
    },
    "papermill": {
     "duration": 0.019175,
     "end_time": "2023-02-06T07:31:46.772158",
     "exception": false,
     "start_time": "2023-02-06T07:31:46.752983",
     "status": "completed"
    },
    "tags": []
   },
   "outputs": [],
   "source": [
    "X_train,X_test,y_train,y_test=train_test_split(X_scale,y,random_state=42,test_size=.2)"
   ]
  },
  {
   "cell_type": "code",
   "execution_count": 20,
   "id": "458a97ce",
   "metadata": {
    "execution": {
     "iopub.execute_input": "2023-02-06T07:31:46.790728Z",
     "iopub.status.busy": "2023-02-06T07:31:46.790118Z",
     "iopub.status.idle": "2023-02-06T07:31:46.796604Z",
     "shell.execute_reply": "2023-02-06T07:31:46.795423Z"
    },
    "papermill": {
     "duration": 0.018348,
     "end_time": "2023-02-06T07:31:46.798973",
     "exception": false,
     "start_time": "2023-02-06T07:31:46.780625",
     "status": "completed"
    },
    "tags": []
   },
   "outputs": [
    {
     "data": {
      "text/plain": [
       "(5634, 45)"
      ]
     },
     "execution_count": 20,
     "metadata": {},
     "output_type": "execute_result"
    }
   ],
   "source": [
    "X_train.shape"
   ]
  },
  {
   "cell_type": "code",
   "execution_count": 21,
   "id": "9c3dfb65",
   "metadata": {
    "execution": {
     "iopub.execute_input": "2023-02-06T07:31:46.817437Z",
     "iopub.status.busy": "2023-02-06T07:31:46.817086Z",
     "iopub.status.idle": "2023-02-06T07:31:46.822485Z",
     "shell.execute_reply": "2023-02-06T07:31:46.821661Z"
    },
    "papermill": {
     "duration": 0.016894,
     "end_time": "2023-02-06T07:31:46.824325",
     "exception": false,
     "start_time": "2023-02-06T07:31:46.807431",
     "status": "completed"
    },
    "tags": []
   },
   "outputs": [
    {
     "data": {
      "text/plain": [
       "(1409, 45)"
      ]
     },
     "execution_count": 21,
     "metadata": {},
     "output_type": "execute_result"
    }
   ],
   "source": [
    "X_test.shape"
   ]
  },
  {
   "cell_type": "markdown",
   "id": "fc6895d6",
   "metadata": {
    "papermill": {
     "duration": 0.008001,
     "end_time": "2023-02-06T07:31:46.840918",
     "exception": false,
     "start_time": "2023-02-06T07:31:46.832917",
     "status": "completed"
    },
    "tags": []
   },
   "source": [
    "# train XGBClassifier model"
   ]
  },
  {
   "cell_type": "code",
   "execution_count": 22,
   "id": "ba51a5f3",
   "metadata": {
    "execution": {
     "iopub.execute_input": "2023-02-06T07:31:46.859983Z",
     "iopub.status.busy": "2023-02-06T07:31:46.858732Z",
     "iopub.status.idle": "2023-02-06T07:31:47.861966Z",
     "shell.execute_reply": "2023-02-06T07:31:47.861200Z"
    },
    "papermill": {
     "duration": 1.01503,
     "end_time": "2023-02-06T07:31:47.864222",
     "exception": false,
     "start_time": "2023-02-06T07:31:46.849192",
     "status": "completed"
    },
    "tags": []
   },
   "outputs": [
    {
     "name": "stdout",
     "output_type": "stream",
     "text": [
      "[07:31:46] WARNING: ../src/learner.cc:627: \n",
      "Parameters: { \"n_estimator\" } might not be used.\n",
      "\n",
      "  This could be a false alarm, with some parameters getting used by language bindings but\n",
      "  then being mistakenly passed down to XGBoost core, or some parameter actually being used\n",
      "  but getting flagged wrongly here. Please open an issue if you find any such cases.\n",
      "\n",
      "\n"
     ]
    }
   ],
   "source": [
    "from xgboost import XGBClassifier\n",
    "xgb=XGBClassifier(n_estimator=200,learning_rate=.01)\n",
    "xgb.fit(X_train,y_train)\n",
    "prediction=xgb.predict(X_test)"
   ]
  },
  {
   "cell_type": "code",
   "execution_count": 23,
   "id": "0380c168",
   "metadata": {
    "execution": {
     "iopub.execute_input": "2023-02-06T07:31:47.882767Z",
     "iopub.status.busy": "2023-02-06T07:31:47.882181Z",
     "iopub.status.idle": "2023-02-06T07:31:47.897213Z",
     "shell.execute_reply": "2023-02-06T07:31:47.895329Z"
    },
    "papermill": {
     "duration": 0.027322,
     "end_time": "2023-02-06T07:31:47.900117",
     "exception": false,
     "start_time": "2023-02-06T07:31:47.872795",
     "status": "completed"
    },
    "tags": []
   },
   "outputs": [
    {
     "name": "stdout",
     "output_type": "stream",
     "text": [
      "XGB model,s accuracy is0.8090844570617459\n",
      "XGB model,s accuracy is0.759308614057443\n"
     ]
    }
   ],
   "source": [
    "from sklearn.metrics import accuracy_score,roc_curve,roc_auc_score,confusion_matrix,classification_report,plot_confusion_matrix\n",
    "accuracy_score(prediction,y_test)\n",
    "roc_auc_score(prediction,y_test)\n",
    "print('XGB model,s accuracy is'+str(accuracy_score(prediction,y_test)))\n",
    "print('XGB model,s accuracy is'+str(roc_auc_score(prediction,y_test)))"
   ]
  },
  {
   "cell_type": "code",
   "execution_count": 24,
   "id": "9e8e5127",
   "metadata": {
    "execution": {
     "iopub.execute_input": "2023-02-06T07:31:47.918783Z",
     "iopub.status.busy": "2023-02-06T07:31:47.918392Z",
     "iopub.status.idle": "2023-02-06T07:31:48.129523Z",
     "shell.execute_reply": "2023-02-06T07:31:48.128626Z"
    },
    "papermill": {
     "duration": 0.223066,
     "end_time": "2023-02-06T07:31:48.131891",
     "exception": false,
     "start_time": "2023-02-06T07:31:47.908825",
     "status": "completed"
    },
    "tags": []
   },
   "outputs": [
    {
     "name": "stdout",
     "output_type": "stream",
     "text": [
      "              precision    recall  f1-score   support\n",
      "\n",
      "           0       0.90      0.85      0.87      1107\n",
      "           1       0.54      0.67      0.60       302\n",
      "\n",
      "    accuracy                           0.81      1409\n",
      "   macro avg       0.72      0.76      0.74      1409\n",
      "weighted avg       0.83      0.81      0.82      1409\n",
      "\n"
     ]
    },
    {
     "data": {
      "image/png": "[encoded data removed]",
      "text/plain": [
       "<Figure size 432x288 with 2 Axes>"
      ]
     },
     "metadata": {
      "needs_background": "light"
     },
     "output_type": "display_data"
    }
   ],
   "source": [
    "from sklearn.metrics import ConfusionMatrixDisplay\n",
    "disp=ConfusionMatrixDisplay(confusion_matrix(prediction,y_test))\n",
    "disp=disp.plot()\n",
    "print(classification_report(prediction,y_test))"
   ]
  },
  {
   "cell_type": "markdown",
   "id": "87262313",
   "metadata": {
    "papermill": {
     "duration": 0.008433,
     "end_time": "2023-02-06T07:31:48.149271",
     "exception": false,
     "start_time": "2023-02-06T07:31:48.140838",
     "status": "completed"
    },
    "tags": []
   },
   "source": [
    "# comparing between prediction and testing data"
   ]
  },
  {
   "cell_type": "code",
   "execution_count": 25,
   "id": "80f4d670",
   "metadata": {
    "execution": {
     "iopub.execute_input": "2023-02-06T07:31:48.168394Z",
     "iopub.status.busy": "2023-02-06T07:31:48.168010Z",
     "iopub.status.idle": "2023-02-06T07:31:48.173137Z",
     "shell.execute_reply": "2023-02-06T07:31:48.172133Z"
    },
    "papermill": {
     "duration": 0.017813,
     "end_time": "2023-02-06T07:31:48.175711",
     "exception": false,
     "start_time": "2023-02-06T07:31:48.157898",
     "status": "completed"
    },
    "tags": []
   },
   "outputs": [
    {
     "name": "stdout",
     "output_type": "stream",
     "text": [
      "[1 0 0 ... 0 0 1]\n"
     ]
    }
   ],
   "source": [
    "print(prediction)"
   ]
  },
  {
   "cell_type": "code",
   "execution_count": 26,
   "id": "bef15b10",
   "metadata": {
    "execution": {
     "iopub.execute_input": "2023-02-06T07:31:48.194938Z",
     "iopub.status.busy": "2023-02-06T07:31:48.194542Z",
     "iopub.status.idle": "2023-02-06T07:31:48.201097Z",
     "shell.execute_reply": "2023-02-06T07:31:48.200182Z"
    },
    "papermill": {
     "duration": 0.018475,
     "end_time": "2023-02-06T07:31:48.203154",
     "exception": false,
     "start_time": "2023-02-06T07:31:48.184679",
     "status": "completed"
    },
    "tags": []
   },
   "outputs": [
    {
     "name": "stdout",
     "output_type": "stream",
     "text": [
      "185     1\n",
      "2715    0\n",
      "3825    0\n",
      "1807    1\n",
      "132     0\n",
      "       ..\n",
      "6366    0\n",
      "315     0\n",
      "2439    0\n",
      "5002    0\n",
      "1161    1\n",
      "Name: Churn, Length: 1409, dtype: int64\n"
     ]
    }
   ],
   "source": [
    "print(y_test)"
   ]
  }
 ],
 "metadata": {
  "kernelspec": {
   "display_name": "Python 3",
   "language": "python",
   "name": "python3"
  },
  "language_info": {
   "codemirror_mode": {
    "name": "ipython",
    "version": 3
   },
   "file_extension": ".py",
   "mimetype": "text/x-python",
   "name": "python",
   "nbconvert_exporter": "python",
   "pygments_lexer": "ipython3",
   "version": "3.7.12"
  },
  "papermill": {
   "default_parameters": {},
   "duration": 11.374587,
   "end_time": "2023-02-06T07:31:48.935121",
   "environment_variables": {},
   "exception": null,
   "input_path": "__notebook__.ipynb",
   "output_path": "__notebook__.ipynb",
   "parameters": {},
   "start_time": "2023-02-06T07:31:37.560534",
   "version": "2.3.4"
  }
 },
 "nbformat": 4,
 "nbformat_minor": 5
}
